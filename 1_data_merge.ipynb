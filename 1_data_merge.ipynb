{
 "cells": [
  {
   "cell_type": "code",
   "execution_count": 10,
   "metadata": {},
   "outputs": [
    {
     "name": "stdout",
     "output_type": "stream",
     "text": [
      "       open_time    open    high     low   close      volume     close_time  \\\n",
      "0  1567296000000  171.52  172.89  171.36  172.45  5981.16399  1567299599999   \n",
      "1  1567299600000  172.47  173.42  172.41  172.71  7929.54701  1567303199999   \n",
      "2  1567303200000  172.67  172.97  172.02  172.43  2650.04457  1567306799999   \n",
      "3  1567306800000  172.41  172.83  172.32  172.57  2676.49085  1567310399999   \n",
      "4  1567310400000  172.50  172.74  172.11  172.46  2596.85893  1567313999999   \n",
      "\n",
      "   quote_volume  count  taker_buy_volume  taker_buy_quote_volume  ignore  \n",
      "0  1.030126e+06   3753        3576.32332           615886.585686       0  \n",
      "1  1.372183e+06   3310        5532.93656           957301.238661       0  \n",
      "2  4.568114e+05   2666        1333.25886           229852.921103       0  \n",
      "3  4.618308e+05   2612        1445.60395           249450.124375       0  \n",
      "4  4.476401e+05   2848        1524.31952           262782.612091       0  \n"
     ]
    }
   ],
   "source": [
    "import pandas as pd\n",
    "import glob\n",
    "import matplotlib.pyplot as plt\n",
    "\n",
    "# Define the path to the CSV files\n",
    "csv_files_path = './data/ETH_USDT/*.csv'\n",
    "\n",
    "# Get a list of all CSV files in the directory\n",
    "csv_files = glob.glob(csv_files_path)\n",
    "\n",
    "# Define the column names (adjust these to match the structure of your data)\n",
    "column_names = ['open_time', 'open', 'high', 'low', 'close', 'volume', \n",
    "                'close_time', 'quote_volume', 'count', 'taker_buy_volume',\n",
    "                'taker_buy_quote_volume', 'ignore']\n",
    "\n",
    "# Initialize an empty list to hold the dataframes\n",
    "dataframes = []\n",
    "\n",
    "# Loop over the list of csv files\n",
    "for file in csv_files:\n",
    "    # Read the CSV file into a dataframe without headers and assign column names\n",
    "    df = pd.read_csv(file, header=None, names=column_names)\n",
    "\n",
    "    # Append the dataframe to the list\n",
    "    dataframes.append(df)\n",
    "\n",
    "# Concatenate all dataframes in the list into a single dataframe\n",
    "combined_df = pd.concat(dataframes, ignore_index=True)\n",
    "\n",
    "# Display the first few rows of the combined dataframe\n",
    "print(combined_df.head())\n",
    "\n",
    "# Save the combined dataframe to a new CSV file\n",
    "combined_df.to_csv('./processed_data/combined_eth_data.csv', index=False)\n",
    "#combined_df.head()\n"
   ]
  },
  {
   "cell_type": "code",
   "execution_count": 8,
   "metadata": {},
   "outputs": [
    {
     "name": "stdout",
     "output_type": "stream",
     "text": [
      "Null values in each column:\n",
      "open_time                 0\n",
      "open                      0\n",
      "high                      0\n",
      "low                       0\n",
      "close                     0\n",
      "volume                    0\n",
      "close_time                0\n",
      "quote_volume              0\n",
      "count                     0\n",
      "taker_buy_volume          0\n",
      "taker_buy_quote_volume    0\n",
      "ignore                    0\n",
      "dtype: int64\n"
     ]
    }
   ],
   "source": [
    "import pandas as pd\n",
    "\n",
    "# Define the path to the combined CSV file\n",
    "combined_csv_path = './processed_data/combined_bitcoin_data.csv'\n",
    "\n",
    "# Read the combined CSV file into a dataframe\n",
    "combined_df = pd.read_csv(combined_csv_path)\n",
    "\n",
    "# Check for null values\n",
    "null_values = combined_df.isnull().sum()\n",
    "print(\"Null values in each column:\")\n",
    "print(null_values)\n",
    "\n"
   ]
  }
 ],
 "metadata": {
  "kernelspec": {
   "display_name": "Python 3",
   "language": "python",
   "name": "python3"
  },
  "language_info": {
   "codemirror_mode": {
    "name": "ipython",
    "version": 3
   },
   "file_extension": ".py",
   "mimetype": "text/x-python",
   "name": "python",
   "nbconvert_exporter": "python",
   "pygments_lexer": "ipython3",
   "version": "3.11.5"
  }
 },
 "nbformat": 4,
 "nbformat_minor": 2
}
